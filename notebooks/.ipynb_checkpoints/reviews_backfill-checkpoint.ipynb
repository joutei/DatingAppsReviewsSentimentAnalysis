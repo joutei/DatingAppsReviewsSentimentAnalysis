{
 "cells": [
  {
   "cell_type": "code",
   "execution_count": null,
   "metadata": {
    "colab": {
     "base_uri": "https://localhost:8080/"
    },
    "collapsed": true,
    "id": "Qgc0n8Z2ykUL",
    "jupyter": {
     "outputs_hidden": true
    },
    "outputId": "89ea47c8-ac5f-42d4-b1da-e6c5107984a4"
   },
   "outputs": [
    {
     "name": "stdout",
     "output_type": "stream",
     "text": [
      "Requirement already satisfied: google-play-scraper in /usr/local/lib/python3.10/dist-packages (1.2.7)\n",
      "Requirement already satisfied: schedule in /usr/local/lib/python3.10/dist-packages (1.2.2)\n",
      "Requirement already satisfied: requests_cache in /usr/local/lib/python3.10/dist-packages (1.2.1)\n",
      "Requirement already satisfied: attrs>=21.2 in /usr/local/lib/python3.10/dist-packages (from requests_cache) (24.3.0)\n",
      "Requirement already satisfied: cattrs>=22.2 in /usr/local/lib/python3.10/dist-packages (from requests_cache) (24.1.2)\n",
      "Requirement already satisfied: platformdirs>=2.5 in /usr/local/lib/python3.10/dist-packages (from requests_cache) (4.3.6)\n",
      "Requirement already satisfied: requests>=2.22 in /usr/local/lib/python3.10/dist-packages (from requests_cache) (2.32.3)\n",
      "Requirement already satisfied: url-normalize>=1.4 in /usr/local/lib/python3.10/dist-packages (from requests_cache) (1.4.3)\n",
      "Requirement already satisfied: urllib3>=1.25.5 in /usr/local/lib/python3.10/dist-packages (from requests_cache) (1.26.20)\n",
      "Requirement already satisfied: exceptiongroup>=1.1.1 in /usr/local/lib/python3.10/dist-packages (from cattrs>=22.2->requests_cache) (1.2.2)\n",
      "Requirement already satisfied: typing-extensions!=4.6.3,>=4.1.0 in /usr/local/lib/python3.10/dist-packages (from cattrs>=22.2->requests_cache) (4.12.2)\n",
      "Requirement already satisfied: charset-normalizer<4,>=2 in /usr/local/lib/python3.10/dist-packages (from requests>=2.22->requests_cache) (3.4.0)\n",
      "Requirement already satisfied: idna<4,>=2.5 in /usr/local/lib/python3.10/dist-packages (from requests>=2.22->requests_cache) (3.10)\n",
      "Requirement already satisfied: certifi>=2017.4.17 in /usr/local/lib/python3.10/dist-packages (from requests>=2.22->requests_cache) (2024.12.14)\n",
      "Requirement already satisfied: six in /usr/local/lib/python3.10/dist-packages (from url-normalize>=1.4->requests_cache) (1.17.0)\n",
      "Requirement already satisfied: retry_requests in /usr/local/lib/python3.10/dist-packages (2.0.0)\n",
      "Requirement already satisfied: requests in /usr/local/lib/python3.10/dist-packages (from retry_requests) (2.32.3)\n",
      "Requirement already satisfied: urllib3>=1.26 in /usr/local/lib/python3.10/dist-packages (from retry_requests) (1.26.20)\n",
      "Requirement already satisfied: charset-normalizer<4,>=2 in /usr/local/lib/python3.10/dist-packages (from requests->retry_requests) (3.4.0)\n",
      "Requirement already satisfied: idna<4,>=2.5 in /usr/local/lib/python3.10/dist-packages (from requests->retry_requests) (3.10)\n",
      "Requirement already satisfied: certifi>=2017.4.17 in /usr/local/lib/python3.10/dist-packages (from requests->retry_requests) (2024.12.14)\n",
      "Collecting hopsworks==4.1.3\n",
      "  Downloading hopsworks-4.1.3-py3-none-any.whl.metadata (11 kB)\n",
      "Requirement already satisfied: pyhumps==1.6.1 in /usr/local/lib/python3.10/dist-packages (from hopsworks==4.1.3) (1.6.1)\n",
      "Requirement already satisfied: requests in /usr/local/lib/python3.10/dist-packages (from hopsworks==4.1.3) (2.32.3)\n",
      "Requirement already satisfied: furl in /usr/local/lib/python3.10/dist-packages (from hopsworks==4.1.3) (2.1.3)\n",
      "Requirement already satisfied: boto3 in /usr/local/lib/python3.10/dist-packages (from hopsworks==4.1.3) (1.35.94)\n",
      "Requirement already satisfied: pandas<2.2.0 in /usr/local/lib/python3.10/dist-packages (from hopsworks==4.1.3) (1.5.3)\n",
      "Requirement already satisfied: pyjks in /usr/local/lib/python3.10/dist-packages (from hopsworks==4.1.3) (20.0.0)\n",
      "Requirement already satisfied: mock in /usr/local/lib/python3.10/dist-packages (from hopsworks==4.1.3) (5.1.0)\n",
      "Requirement already satisfied: avro==1.11.3 in /usr/local/lib/python3.10/dist-packages (from hopsworks==4.1.3) (1.11.3)\n",
      "Requirement already satisfied: sqlalchemy in /usr/local/lib/python3.10/dist-packages (from hopsworks==4.1.3) (1.4.48)\n",
      "Requirement already satisfied: PyMySQL[rsa] in /usr/local/lib/python3.10/dist-packages (from hopsworks==4.1.3) (1.1.1)\n",
      "Requirement already satisfied: tzlocal in /usr/local/lib/python3.10/dist-packages (from hopsworks==4.1.3) (5.2)\n",
      "Requirement already satisfied: fsspec in /usr/local/lib/python3.10/dist-packages (from hopsworks==4.1.3) (2024.10.0)\n",
      "Requirement already satisfied: retrying in /usr/local/lib/python3.10/dist-packages (from hopsworks==4.1.3) (1.3.4)\n",
      "Requirement already satisfied: hopsworks_aiomysql==0.2.1 in /usr/local/lib/python3.10/dist-packages (from hopsworks_aiomysql[sa]==0.2.1->hopsworks==4.1.3) (0.2.1)\n",
      "Requirement already satisfied: opensearch-py<=2.4.2,>=1.1.0 in /usr/local/lib/python3.10/dist-packages (from hopsworks==4.1.3) (2.4.2)\n",
      "Requirement already satisfied: tqdm in /usr/local/lib/python3.10/dist-packages (from hopsworks==4.1.3) (4.67.1)\n",
      "Requirement already satisfied: grpcio<2.0.0,>=1.49.1 in /usr/local/lib/python3.10/dist-packages (from hopsworks==4.1.3) (1.68.1)\n",
      "Requirement already satisfied: protobuf<5.0.0,>=4.25.4 in /usr/local/lib/python3.10/dist-packages (from hopsworks==4.1.3) (4.25.5)\n",
      "Requirement already satisfied: urllib3>=1.26.18 in /usr/local/lib/python3.10/dist-packages (from opensearch-py<=2.4.2,>=1.1.0->hopsworks==4.1.3) (1.26.20)\n",
      "Requirement already satisfied: six in /usr/local/lib/python3.10/dist-packages (from opensearch-py<=2.4.2,>=1.1.0->hopsworks==4.1.3) (1.17.0)\n",
      "Requirement already satisfied: python-dateutil in /usr/local/lib/python3.10/dist-packages (from opensearch-py<=2.4.2,>=1.1.0->hopsworks==4.1.3) (2.8.2)\n",
      "Requirement already satisfied: certifi>=2022.12.07 in /usr/local/lib/python3.10/dist-packages (from opensearch-py<=2.4.2,>=1.1.0->hopsworks==4.1.3) (2024.12.14)\n",
      "Requirement already satisfied: pytz>=2020.1 in /usr/local/lib/python3.10/dist-packages (from pandas<2.2.0->hopsworks==4.1.3) (2024.2)\n",
      "Requirement already satisfied: numpy>=1.21.0 in /usr/local/lib/python3.10/dist-packages (from pandas<2.2.0->hopsworks==4.1.3) (1.26.4)\n",
      "Requirement already satisfied: charset-normalizer<4,>=2 in /usr/local/lib/python3.10/dist-packages (from requests->hopsworks==4.1.3) (3.4.0)\n",
      "Requirement already satisfied: idna<4,>=2.5 in /usr/local/lib/python3.10/dist-packages (from requests->hopsworks==4.1.3) (3.10)\n",
      "Requirement already satisfied: greenlet!=0.4.17 in /usr/local/lib/python3.10/dist-packages (from sqlalchemy->hopsworks==4.1.3) (3.1.1)\n",
      "Requirement already satisfied: botocore<1.36.0,>=1.35.94 in /usr/local/lib/python3.10/dist-packages (from boto3->hopsworks==4.1.3) (1.35.94)\n",
      "Requirement already satisfied: jmespath<2.0.0,>=0.7.1 in /usr/local/lib/python3.10/dist-packages (from boto3->hopsworks==4.1.3) (1.0.1)\n",
      "Requirement already satisfied: s3transfer<0.11.0,>=0.10.0 in /usr/local/lib/python3.10/dist-packages (from boto3->hopsworks==4.1.3) (0.10.4)\n",
      "Requirement already satisfied: orderedmultidict>=1.0.1 in /usr/local/lib/python3.10/dist-packages (from furl->hopsworks==4.1.3) (1.0.1)\n",
      "Requirement already satisfied: javaobj-py3 in /usr/local/lib/python3.10/dist-packages (from pyjks->hopsworks==4.1.3) (0.4.4)\n",
      "Requirement already satisfied: pyasn1>=0.3.5 in /usr/local/lib/python3.10/dist-packages (from pyjks->hopsworks==4.1.3) (0.6.1)\n",
      "Requirement already satisfied: pyasn1-modules in /usr/local/lib/python3.10/dist-packages (from pyjks->hopsworks==4.1.3) (0.4.1)\n",
      "Requirement already satisfied: pycryptodomex in /usr/local/lib/python3.10/dist-packages (from pyjks->hopsworks==4.1.3) (3.21.0)\n",
      "Requirement already satisfied: twofish in /usr/local/lib/python3.10/dist-packages (from pyjks->hopsworks==4.1.3) (0.3.0)\n",
      "Requirement already satisfied: cryptography in /usr/local/lib/python3.10/dist-packages (from PyMySQL[rsa]->hopsworks==4.1.3) (43.0.3)\n",
      "Requirement already satisfied: cffi>=1.12 in /usr/local/lib/python3.10/dist-packages (from cryptography->PyMySQL[rsa]->hopsworks==4.1.3) (1.17.1)\n",
      "Requirement already satisfied: pycparser in /usr/local/lib/python3.10/dist-packages (from cffi>=1.12->cryptography->PyMySQL[rsa]->hopsworks==4.1.3) (2.22)\n",
      "Downloading hopsworks-4.1.3-py3-none-any.whl (640 kB)\n",
      "\u001b[2K   \u001b[90m━━━━━━━━━━━━━━━━━━━━━━━━━━━━━━━━━━━━━━━━\u001b[0m \u001b[32m640.1/640.1 kB\u001b[0m \u001b[31m7.6 MB/s\u001b[0m eta \u001b[36m0:00:00\u001b[0m\n",
      "\u001b[?25hInstalling collected packages: hopsworks\n",
      "  Attempting uninstall: hopsworks\n",
      "    Found existing installation: hopsworks 4.1.0\n",
      "    Uninstalling hopsworks-4.1.0:\n",
      "      Successfully uninstalled hopsworks-4.1.0\n",
      "Successfully installed hopsworks-4.1.3\n"
     ]
    }
   ],
   "source": [
    "#!pip install google_play_scraper\n",
    "#!pip install schedule\n",
    "#!pip install requests_cache\n",
    "#!pip install retry_requests\n",
    "#!pip install hopsworks==4.1.3"
   ]
  },
  {
   "cell_type": "code",
   "execution_count": 18,
   "metadata": {
    "id": "abKwC5lVzCcm"
   },
   "outputs": [],
   "source": [
    "import sys\n",
    "sys.path.append('../')\n",
    "from google_play_scraper import reviews\n",
    "import schedule\n",
    "import time\n",
    "import sys\n",
    "import csv"
   ]
  },
  {
   "cell_type": "code",
   "execution_count": 19,
   "metadata": {
    "colab": {
     "base_uri": "https://localhost:8080/"
    },
    "id": "EZVw62jSzMG-",
    "outputId": "34b8a483-03df-4934-e7a5-86f3c9a4833e"
   },
   "outputs": [
    {
     "name": "stdout",
     "output_type": "stream",
     "text": [
      "Saved 30000 filtered reviews to filtered_reviews.csv\n"
     ]
    }
   ],
   "source": [
    "def save_filtered_reviews_to_csv(app_id, lang, country, count, output_file):\n",
    "    # Fetch reviews\n",
    "    result, _ = reviews(\n",
    "        app_id,\n",
    "        lang=lang,\n",
    "        country=country,\n",
    "        count=count\n",
    "    )\n",
    "\n",
    "    # Specify relevant keys for the CSV\n",
    "    relevant_keys = ['reviewId', 'content', 'score', 'at', 'thumbsUpCount']\n",
    "\n",
    "    # Filter the review data to include only relevant keys\n",
    "    filtered_result = [\n",
    "        {key: review[key] for key in relevant_keys if key in review}\n",
    "        for review in result\n",
    "    ]\n",
    "\n",
    "    # Write to CSV\n",
    "    with open(output_file, mode='w', encoding='utf-8', newline='') as file:\n",
    "        writer = csv.DictWriter(file, fieldnames=relevant_keys)\n",
    "        writer.writeheader()  # Write the header row\n",
    "        writer.writerows(filtered_result)  # Write the filtered review data\n",
    "\n",
    "    print(f\"Saved {len(filtered_result)} filtered reviews to {output_file}\")\n",
    "\n",
    "\n",
    "try :\n",
    "    save_filtered_reviews_to_csv(\n",
    "    app_id='com.tinder',  # Replace with the app's package name\n",
    "    lang='en',                  # Language\n",
    "    country='us',               # Country\n",
    "    count=30000,                 # Number of reviews to fetch\n",
    "    output_file='filtered_reviews.csv'  # Output CSV file\n",
    ")\n",
    "\n",
    "except Exception as e:\n",
    "    print(f\"Error during scraping: {e}\")"
   ]
  },
  {
   "cell_type": "code",
   "execution_count": 20,
   "metadata": {
    "colab": {
     "base_uri": "https://localhost:8080/",
     "height": 206
    },
    "id": "4j9Sp7eCzZZF",
    "outputId": "b67a584b-eff7-49cd-80af-099d91b4b3ef"
   },
   "outputs": [
    {
     "data": {
      "text/html": [
       "<div>\n",
       "<style scoped>\n",
       "    .dataframe tbody tr th:only-of-type {\n",
       "        vertical-align: middle;\n",
       "    }\n",
       "\n",
       "    .dataframe tbody tr th {\n",
       "        vertical-align: top;\n",
       "    }\n",
       "\n",
       "    .dataframe thead th {\n",
       "        text-align: right;\n",
       "    }\n",
       "</style>\n",
       "<table border=\"1\" class=\"dataframe\">\n",
       "  <thead>\n",
       "    <tr style=\"text-align: right;\">\n",
       "      <th></th>\n",
       "      <th>reviewId</th>\n",
       "      <th>content</th>\n",
       "      <th>score</th>\n",
       "      <th>at</th>\n",
       "      <th>thumbsUpCount</th>\n",
       "    </tr>\n",
       "  </thead>\n",
       "  <tbody>\n",
       "    <tr>\n",
       "      <th>0</th>\n",
       "      <td>55beec0f-d4a8-408f-97d0-7801929933d6</td>\n",
       "      <td>How many times does a girl need to do this fac...</td>\n",
       "      <td>2</td>\n",
       "      <td>2025-01-09 11:37:12</td>\n",
       "      <td>0</td>\n",
       "    </tr>\n",
       "    <tr>\n",
       "      <th>1</th>\n",
       "      <td>43e5f03c-c1c7-41d5-94d9-7aec820cac08</td>\n",
       "      <td>This is a very bad app because my girlfriend d...</td>\n",
       "      <td>1</td>\n",
       "      <td>2025-01-09 11:18:00</td>\n",
       "      <td>0</td>\n",
       "    </tr>\n",
       "    <tr>\n",
       "      <th>2</th>\n",
       "      <td>34b615f8-082f-4b01-a9fe-f5b389835cfb</td>\n",
       "      <td>good</td>\n",
       "      <td>5</td>\n",
       "      <td>2025-01-09 11:17:16</td>\n",
       "      <td>0</td>\n",
       "    </tr>\n",
       "    <tr>\n",
       "      <th>3</th>\n",
       "      <td>3e8c6b60-f72e-410c-a66d-1af42e6672a4</td>\n",
       "      <td>Female confidence machine...</td>\n",
       "      <td>2</td>\n",
       "      <td>2025-01-09 11:11:26</td>\n",
       "      <td>0</td>\n",
       "    </tr>\n",
       "    <tr>\n",
       "      <th>4</th>\n",
       "      <td>93cd2627-2c9b-4094-b329-548a04a13432</td>\n",
       "      <td>I recently purchased a package but to my surpr...</td>\n",
       "      <td>2</td>\n",
       "      <td>2025-01-09 11:08:56</td>\n",
       "      <td>2</td>\n",
       "    </tr>\n",
       "  </tbody>\n",
       "</table>\n",
       "</div>"
      ],
      "text/plain": [
       "                               reviewId  \\\n",
       "0  55beec0f-d4a8-408f-97d0-7801929933d6   \n",
       "1  43e5f03c-c1c7-41d5-94d9-7aec820cac08   \n",
       "2  34b615f8-082f-4b01-a9fe-f5b389835cfb   \n",
       "3  3e8c6b60-f72e-410c-a66d-1af42e6672a4   \n",
       "4  93cd2627-2c9b-4094-b329-548a04a13432   \n",
       "\n",
       "                                             content  score  \\\n",
       "0  How many times does a girl need to do this fac...      2   \n",
       "1  This is a very bad app because my girlfriend d...      1   \n",
       "2                                               good      5   \n",
       "3                       Female confidence machine...      2   \n",
       "4  I recently purchased a package but to my surpr...      2   \n",
       "\n",
       "                    at  thumbsUpCount  \n",
       "0  2025-01-09 11:37:12              0  \n",
       "1  2025-01-09 11:18:00              0  \n",
       "2  2025-01-09 11:17:16              0  \n",
       "3  2025-01-09 11:11:26              0  \n",
       "4  2025-01-09 11:08:56              2  "
      ]
     },
     "execution_count": 20,
     "metadata": {},
     "output_type": "execute_result"
    }
   ],
   "source": [
    "import pandas as pd\n",
    "\n",
    "df = pd.read_csv('filtered_reviews.csv')\n",
    "df.head()"
   ]
  },
  {
   "cell_type": "code",
   "execution_count": 21,
   "metadata": {
    "id": "RsF6Um52z6mh",
    "scrolled": true
   },
   "outputs": [],
   "source": [
    "import datetime\n",
    "import requests\n",
    "import pandas as pd\n",
    "import hopsworks\n",
    "import datetime\n",
    "from pathlib import Path\n",
    "import json\n",
    "import re\n",
    "from functions import util\n",
    "import os\n",
    "import warnings\n",
    "warnings.filterwarnings(\"ignore\")"
   ]
  },
  {
   "cell_type": "code",
   "execution_count": 22,
   "metadata": {
    "colab": {
     "base_uri": "https://localhost:8080/",
     "height": 224
    },
    "id": "ZsdEVIdd0G63",
    "outputId": "0e0c2678-c943-4c22-be92-0fa932d0ff62"
   },
   "outputs": [],
   "source": [
    "#monthly_review_df = util.get_periodic_reviews('com.tinder', 'en', 'us', '2024-12-01', '2024-12-31')\n",
    "#monthly_review_df.head()"
   ]
  },
  {
   "cell_type": "code",
   "execution_count": 23,
   "metadata": {
    "colab": {
     "base_uri": "https://localhost:8080/",
     "height": 424
    },
    "id": "2GuCo2891jjW",
    "outputId": "e7224288-84b6-44a8-806c-6a1f2874a4b3"
   },
   "outputs": [
    {
     "data": {
      "text/html": [
       "<div>\n",
       "<style scoped>\n",
       "    .dataframe tbody tr th:only-of-type {\n",
       "        vertical-align: middle;\n",
       "    }\n",
       "\n",
       "    .dataframe tbody tr th {\n",
       "        vertical-align: top;\n",
       "    }\n",
       "\n",
       "    .dataframe thead th {\n",
       "        text-align: right;\n",
       "    }\n",
       "</style>\n",
       "<table border=\"1\" class=\"dataframe\">\n",
       "  <thead>\n",
       "    <tr style=\"text-align: right;\">\n",
       "      <th></th>\n",
       "      <th>reviewId</th>\n",
       "      <th>content</th>\n",
       "      <th>score</th>\n",
       "      <th>at</th>\n",
       "      <th>thumbsUpCount</th>\n",
       "    </tr>\n",
       "  </thead>\n",
       "  <tbody>\n",
       "    <tr>\n",
       "      <th>0</th>\n",
       "      <td>55beec0f-d4a8-408f-97d0-7801929933d6</td>\n",
       "      <td>How many times does a girl need to do this fac...</td>\n",
       "      <td>2</td>\n",
       "      <td>2025-01-09 11:37:12</td>\n",
       "      <td>0</td>\n",
       "    </tr>\n",
       "    <tr>\n",
       "      <th>1</th>\n",
       "      <td>43e5f03c-c1c7-41d5-94d9-7aec820cac08</td>\n",
       "      <td>This is a very bad app because my girlfriend d...</td>\n",
       "      <td>1</td>\n",
       "      <td>2025-01-09 11:18:00</td>\n",
       "      <td>0</td>\n",
       "    </tr>\n",
       "    <tr>\n",
       "      <th>2</th>\n",
       "      <td>34b615f8-082f-4b01-a9fe-f5b389835cfb</td>\n",
       "      <td>good</td>\n",
       "      <td>5</td>\n",
       "      <td>2025-01-09 11:17:16</td>\n",
       "      <td>0</td>\n",
       "    </tr>\n",
       "    <tr>\n",
       "      <th>3</th>\n",
       "      <td>3e8c6b60-f72e-410c-a66d-1af42e6672a4</td>\n",
       "      <td>Female confidence machine...</td>\n",
       "      <td>2</td>\n",
       "      <td>2025-01-09 11:11:26</td>\n",
       "      <td>0</td>\n",
       "    </tr>\n",
       "    <tr>\n",
       "      <th>4</th>\n",
       "      <td>93cd2627-2c9b-4094-b329-548a04a13432</td>\n",
       "      <td>I recently purchased a package but to my surpr...</td>\n",
       "      <td>2</td>\n",
       "      <td>2025-01-09 11:08:56</td>\n",
       "      <td>2</td>\n",
       "    </tr>\n",
       "    <tr>\n",
       "      <th>...</th>\n",
       "      <td>...</td>\n",
       "      <td>...</td>\n",
       "      <td>...</td>\n",
       "      <td>...</td>\n",
       "      <td>...</td>\n",
       "    </tr>\n",
       "    <tr>\n",
       "      <th>29995</th>\n",
       "      <td>86de20dd-0864-49d0-a760-a95225a1f601</td>\n",
       "      <td>Everything is paid don't waste your data 👎🏻</td>\n",
       "      <td>1</td>\n",
       "      <td>2024-04-26 18:47:17</td>\n",
       "      <td>0</td>\n",
       "    </tr>\n",
       "    <tr>\n",
       "      <th>29996</th>\n",
       "      <td>8ee2709d-d8d5-4d5a-bb01-39b2a6758491</td>\n",
       "      <td>The worst dating app by far paid for platinum ...</td>\n",
       "      <td>1</td>\n",
       "      <td>2024-04-26 18:46:45</td>\n",
       "      <td>0</td>\n",
       "    </tr>\n",
       "    <tr>\n",
       "      <th>29997</th>\n",
       "      <td>ff52cfc4-5862-45ab-b48f-746750a3713b</td>\n",
       "      <td>Very Friendly and Beautiful woman</td>\n",
       "      <td>5</td>\n",
       "      <td>2024-04-26 18:16:38</td>\n",
       "      <td>0</td>\n",
       "    </tr>\n",
       "    <tr>\n",
       "      <th>29998</th>\n",
       "      <td>585d76e0-ab0a-4439-8d6f-309c30fbd392</td>\n",
       "      <td>It's a Spam</td>\n",
       "      <td>1</td>\n",
       "      <td>2024-04-26 18:16:37</td>\n",
       "      <td>0</td>\n",
       "    </tr>\n",
       "    <tr>\n",
       "      <th>29999</th>\n",
       "      <td>3c9e9876-a3c0-4519-80c6-53e27f3d8b7d</td>\n",
       "      <td>Need to pay premium just to message like is th...</td>\n",
       "      <td>1</td>\n",
       "      <td>2024-04-26 18:13:39</td>\n",
       "      <td>0</td>\n",
       "    </tr>\n",
       "  </tbody>\n",
       "</table>\n",
       "<p>29994 rows × 5 columns</p>\n",
       "</div>"
      ],
      "text/plain": [
       "                                   reviewId  \\\n",
       "0      55beec0f-d4a8-408f-97d0-7801929933d6   \n",
       "1      43e5f03c-c1c7-41d5-94d9-7aec820cac08   \n",
       "2      34b615f8-082f-4b01-a9fe-f5b389835cfb   \n",
       "3      3e8c6b60-f72e-410c-a66d-1af42e6672a4   \n",
       "4      93cd2627-2c9b-4094-b329-548a04a13432   \n",
       "...                                     ...   \n",
       "29995  86de20dd-0864-49d0-a760-a95225a1f601   \n",
       "29996  8ee2709d-d8d5-4d5a-bb01-39b2a6758491   \n",
       "29997  ff52cfc4-5862-45ab-b48f-746750a3713b   \n",
       "29998  585d76e0-ab0a-4439-8d6f-309c30fbd392   \n",
       "29999  3c9e9876-a3c0-4519-80c6-53e27f3d8b7d   \n",
       "\n",
       "                                                 content  score  \\\n",
       "0      How many times does a girl need to do this fac...      2   \n",
       "1      This is a very bad app because my girlfriend d...      1   \n",
       "2                                                   good      5   \n",
       "3                           Female confidence machine...      2   \n",
       "4      I recently purchased a package but to my surpr...      2   \n",
       "...                                                  ...    ...   \n",
       "29995        Everything is paid don't waste your data 👎🏻      1   \n",
       "29996  The worst dating app by far paid for platinum ...      1   \n",
       "29997                  Very Friendly and Beautiful woman      5   \n",
       "29998                                        It's a Spam      1   \n",
       "29999  Need to pay premium just to message like is th...      1   \n",
       "\n",
       "                        at  thumbsUpCount  \n",
       "0      2025-01-09 11:37:12              0  \n",
       "1      2025-01-09 11:18:00              0  \n",
       "2      2025-01-09 11:17:16              0  \n",
       "3      2025-01-09 11:11:26              0  \n",
       "4      2025-01-09 11:08:56              2  \n",
       "...                    ...            ...  \n",
       "29995  2024-04-26 18:47:17              0  \n",
       "29996  2024-04-26 18:46:45              0  \n",
       "29997  2024-04-26 18:16:38              0  \n",
       "29998  2024-04-26 18:16:37              0  \n",
       "29999  2024-04-26 18:13:39              0  \n",
       "\n",
       "[29994 rows x 5 columns]"
      ]
     },
     "execution_count": 23,
     "metadata": {},
     "output_type": "execute_result"
    }
   ],
   "source": [
    "df.dropna(inplace=True)\n",
    "df"
   ]
  },
  {
   "cell_type": "code",
   "execution_count": 24,
   "metadata": {
    "id": "keHqznXR1ntA"
   },
   "outputs": [],
   "source": [
    "# Add the 'augmented_comment' column\n",
    "df['augmented_comment'] = df['content'] + '. Score given on a scale of 1 to 5 is: ' + df['score'].astype(str)"
   ]
  },
  {
   "cell_type": "code",
   "execution_count": 25,
   "metadata": {
    "colab": {
     "base_uri": "https://localhost:8080/"
    },
    "id": "qPa8Kc0X1rec",
    "outputId": "d20a2af2-0f32-4066-c9b6-744aaee2dc45"
   },
   "outputs": [
    {
     "name": "stderr",
     "output_type": "stream",
     "text": [
      "Device set to use cuda:0\n"
     ]
    }
   ],
   "source": [
    "from transformers import pipeline\n",
    "\n",
    "# Initialize the sentiment classification pipeline\n",
    "sentiment_classifier = pipeline(\n",
    "    model=\"lxyuan/distilbert-base-multilingual-cased-sentiments-student\",\n",
    "    return_all_scores=True\n",
    ")\n",
    "\n",
    "# Define a function to classify sentiment and extract the top label\n",
    "def classify_sentiment(text):\n",
    "    # Get sentiment scores\n",
    "    results = sentiment_classifier(text)[0]\n",
    "\n",
    "    # Extract the label with the highest score\n",
    "    top_label = max(results, key=lambda x: x['score'])['label']\n",
    "    return top_label\n",
    "\n",
    "# Apply sentiment classification to each row in the 'augmented_comment' column\n",
    "df['sentiment'] = df['augmented_comment'].apply(classify_sentiment)\n"
   ]
  },
  {
   "cell_type": "code",
   "execution_count": 26,
   "metadata": {
    "colab": {
     "base_uri": "https://localhost:8080/",
     "height": 424
    },
    "id": "OUQLCUCG_Ud5",
    "outputId": "5bac8d6b-66db-4e59-9eaa-7324a98eef8d"
   },
   "outputs": [
    {
     "data": {
      "text/html": [
       "<div>\n",
       "<style scoped>\n",
       "    .dataframe tbody tr th:only-of-type {\n",
       "        vertical-align: middle;\n",
       "    }\n",
       "\n",
       "    .dataframe tbody tr th {\n",
       "        vertical-align: top;\n",
       "    }\n",
       "\n",
       "    .dataframe thead th {\n",
       "        text-align: right;\n",
       "    }\n",
       "</style>\n",
       "<table border=\"1\" class=\"dataframe\">\n",
       "  <thead>\n",
       "    <tr style=\"text-align: right;\">\n",
       "      <th></th>\n",
       "      <th>reviewId</th>\n",
       "      <th>content</th>\n",
       "      <th>score</th>\n",
       "      <th>at</th>\n",
       "      <th>thumbsUpCount</th>\n",
       "      <th>augmented_comment</th>\n",
       "      <th>sentiment</th>\n",
       "    </tr>\n",
       "  </thead>\n",
       "  <tbody>\n",
       "    <tr>\n",
       "      <th>0</th>\n",
       "      <td>55beec0f-d4a8-408f-97d0-7801929933d6</td>\n",
       "      <td>How many times does a girl need to do this fac...</td>\n",
       "      <td>2</td>\n",
       "      <td>2025-01-09 11:37:12</td>\n",
       "      <td>0</td>\n",
       "      <td>How many times does a girl need to do this fac...</td>\n",
       "      <td>negative</td>\n",
       "    </tr>\n",
       "    <tr>\n",
       "      <th>1</th>\n",
       "      <td>43e5f03c-c1c7-41d5-94d9-7aec820cac08</td>\n",
       "      <td>This is a very bad app because my girlfriend d...</td>\n",
       "      <td>1</td>\n",
       "      <td>2025-01-09 11:18:00</td>\n",
       "      <td>0</td>\n",
       "      <td>This is a very bad app because my girlfriend d...</td>\n",
       "      <td>negative</td>\n",
       "    </tr>\n",
       "    <tr>\n",
       "      <th>2</th>\n",
       "      <td>34b615f8-082f-4b01-a9fe-f5b389835cfb</td>\n",
       "      <td>good</td>\n",
       "      <td>5</td>\n",
       "      <td>2025-01-09 11:17:16</td>\n",
       "      <td>0</td>\n",
       "      <td>good. Score given on a scale of 1 to 5 is: 5</td>\n",
       "      <td>positive</td>\n",
       "    </tr>\n",
       "    <tr>\n",
       "      <th>3</th>\n",
       "      <td>3e8c6b60-f72e-410c-a66d-1af42e6672a4</td>\n",
       "      <td>Female confidence machine...</td>\n",
       "      <td>2</td>\n",
       "      <td>2025-01-09 11:11:26</td>\n",
       "      <td>0</td>\n",
       "      <td>Female confidence machine.... Score given on a...</td>\n",
       "      <td>positive</td>\n",
       "    </tr>\n",
       "    <tr>\n",
       "      <th>4</th>\n",
       "      <td>93cd2627-2c9b-4094-b329-548a04a13432</td>\n",
       "      <td>I recently purchased a package but to my surpr...</td>\n",
       "      <td>2</td>\n",
       "      <td>2025-01-09 11:08:56</td>\n",
       "      <td>2</td>\n",
       "      <td>I recently purchased a package but to my surpr...</td>\n",
       "      <td>negative</td>\n",
       "    </tr>\n",
       "    <tr>\n",
       "      <th>...</th>\n",
       "      <td>...</td>\n",
       "      <td>...</td>\n",
       "      <td>...</td>\n",
       "      <td>...</td>\n",
       "      <td>...</td>\n",
       "      <td>...</td>\n",
       "      <td>...</td>\n",
       "    </tr>\n",
       "    <tr>\n",
       "      <th>29995</th>\n",
       "      <td>86de20dd-0864-49d0-a760-a95225a1f601</td>\n",
       "      <td>Everything is paid don't waste your data 👎🏻</td>\n",
       "      <td>1</td>\n",
       "      <td>2024-04-26 18:47:17</td>\n",
       "      <td>0</td>\n",
       "      <td>Everything is paid don't waste your data 👎🏻. S...</td>\n",
       "      <td>neutral</td>\n",
       "    </tr>\n",
       "    <tr>\n",
       "      <th>29996</th>\n",
       "      <td>8ee2709d-d8d5-4d5a-bb01-39b2a6758491</td>\n",
       "      <td>The worst dating app by far paid for platinum ...</td>\n",
       "      <td>1</td>\n",
       "      <td>2024-04-26 18:46:45</td>\n",
       "      <td>0</td>\n",
       "      <td>The worst dating app by far paid for platinum ...</td>\n",
       "      <td>negative</td>\n",
       "    </tr>\n",
       "    <tr>\n",
       "      <th>29997</th>\n",
       "      <td>ff52cfc4-5862-45ab-b48f-746750a3713b</td>\n",
       "      <td>Very Friendly and Beautiful woman</td>\n",
       "      <td>5</td>\n",
       "      <td>2024-04-26 18:16:38</td>\n",
       "      <td>0</td>\n",
       "      <td>Very Friendly and Beautiful woman. Score given...</td>\n",
       "      <td>positive</td>\n",
       "    </tr>\n",
       "    <tr>\n",
       "      <th>29998</th>\n",
       "      <td>585d76e0-ab0a-4439-8d6f-309c30fbd392</td>\n",
       "      <td>It's a Spam</td>\n",
       "      <td>1</td>\n",
       "      <td>2024-04-26 18:16:37</td>\n",
       "      <td>0</td>\n",
       "      <td>It's a Spam. Score given on a scale of 1 to 5 ...</td>\n",
       "      <td>negative</td>\n",
       "    </tr>\n",
       "    <tr>\n",
       "      <th>29999</th>\n",
       "      <td>3c9e9876-a3c0-4519-80c6-53e27f3d8b7d</td>\n",
       "      <td>Need to pay premium just to message like is th...</td>\n",
       "      <td>1</td>\n",
       "      <td>2024-04-26 18:13:39</td>\n",
       "      <td>0</td>\n",
       "      <td>Need to pay premium just to message like is th...</td>\n",
       "      <td>positive</td>\n",
       "    </tr>\n",
       "  </tbody>\n",
       "</table>\n",
       "<p>29994 rows × 7 columns</p>\n",
       "</div>"
      ],
      "text/plain": [
       "                                   reviewId  \\\n",
       "0      55beec0f-d4a8-408f-97d0-7801929933d6   \n",
       "1      43e5f03c-c1c7-41d5-94d9-7aec820cac08   \n",
       "2      34b615f8-082f-4b01-a9fe-f5b389835cfb   \n",
       "3      3e8c6b60-f72e-410c-a66d-1af42e6672a4   \n",
       "4      93cd2627-2c9b-4094-b329-548a04a13432   \n",
       "...                                     ...   \n",
       "29995  86de20dd-0864-49d0-a760-a95225a1f601   \n",
       "29996  8ee2709d-d8d5-4d5a-bb01-39b2a6758491   \n",
       "29997  ff52cfc4-5862-45ab-b48f-746750a3713b   \n",
       "29998  585d76e0-ab0a-4439-8d6f-309c30fbd392   \n",
       "29999  3c9e9876-a3c0-4519-80c6-53e27f3d8b7d   \n",
       "\n",
       "                                                 content  score  \\\n",
       "0      How many times does a girl need to do this fac...      2   \n",
       "1      This is a very bad app because my girlfriend d...      1   \n",
       "2                                                   good      5   \n",
       "3                           Female confidence machine...      2   \n",
       "4      I recently purchased a package but to my surpr...      2   \n",
       "...                                                  ...    ...   \n",
       "29995        Everything is paid don't waste your data 👎🏻      1   \n",
       "29996  The worst dating app by far paid for platinum ...      1   \n",
       "29997                  Very Friendly and Beautiful woman      5   \n",
       "29998                                        It's a Spam      1   \n",
       "29999  Need to pay premium just to message like is th...      1   \n",
       "\n",
       "                        at  thumbsUpCount  \\\n",
       "0      2025-01-09 11:37:12              0   \n",
       "1      2025-01-09 11:18:00              0   \n",
       "2      2025-01-09 11:17:16              0   \n",
       "3      2025-01-09 11:11:26              0   \n",
       "4      2025-01-09 11:08:56              2   \n",
       "...                    ...            ...   \n",
       "29995  2024-04-26 18:47:17              0   \n",
       "29996  2024-04-26 18:46:45              0   \n",
       "29997  2024-04-26 18:16:38              0   \n",
       "29998  2024-04-26 18:16:37              0   \n",
       "29999  2024-04-26 18:13:39              0   \n",
       "\n",
       "                                       augmented_comment sentiment  \n",
       "0      How many times does a girl need to do this fac...  negative  \n",
       "1      This is a very bad app because my girlfriend d...  negative  \n",
       "2           good. Score given on a scale of 1 to 5 is: 5  positive  \n",
       "3      Female confidence machine.... Score given on a...  positive  \n",
       "4      I recently purchased a package but to my surpr...  negative  \n",
       "...                                                  ...       ...  \n",
       "29995  Everything is paid don't waste your data 👎🏻. S...   neutral  \n",
       "29996  The worst dating app by far paid for platinum ...  negative  \n",
       "29997  Very Friendly and Beautiful woman. Score given...  positive  \n",
       "29998  It's a Spam. Score given on a scale of 1 to 5 ...  negative  \n",
       "29999  Need to pay premium just to message like is th...  positive  \n",
       "\n",
       "[29994 rows x 7 columns]"
      ]
     },
     "execution_count": 26,
     "metadata": {},
     "output_type": "execute_result"
    }
   ],
   "source": [
    "df"
   ]
  },
  {
   "cell_type": "code",
   "execution_count": 27,
   "metadata": {
    "colab": {
     "base_uri": "https://localhost:8080/"
    },
    "id": "Kk2-PTLlAQxa",
    "outputId": "8be10659-37ca-4ebb-c8b6-911073d4064c"
   },
   "outputs": [
    {
     "name": "stdout",
     "output_type": "stream",
     "text": [
      "2025-01-10 11:55:09,023 INFO: Closing external client and cleaning up certificates.\n",
      "Connection closed.\n",
      "2025-01-10 11:55:09,039 INFO: Initializing external client\n",
      "2025-01-10 11:55:09,041 INFO: Base URL: https://c.app.hopsworks.ai:443\n",
      "2025-01-10 11:55:10,426 INFO: Python Engine initialized.\n",
      "\n",
      "Logged in to project, explore it here https://c.app.hopsworks.ai:443/p/1185941\n"
     ]
    }
   ],
   "source": [
    "# If you haven't set the env variable 'HOPSWORKS_API_KEY', then uncomment the next line and enter your API key\n",
    "os.environ[\"HOPSWORKS_API_KEY\"] = \"6xLHrUPek6nw9STy.ueYbHCnUwYhFQ5xzscRiONFQ4ZmgUxMFUt8bnCu3UX69ejYcaIxeUHynvrMhcrt5\"\n",
    "\n",
    "project = hopsworks.login()\n",
    "fs = project.get_feature_store()"
   ]
  },
  {
   "cell_type": "code",
   "execution_count": 28,
   "metadata": {
    "id": "-Y01q3H8AcRv"
   },
   "outputs": [],
   "source": [
    "reviews_fg = fs.get_or_create_feature_group(\n",
    "    name='reviews',\n",
    "    description='Reviews of tinder historically',\n",
    "    version=1,\n",
    "    primary_key=['reviewId'],\n",
    "    event_time=\"at\",\n",
    "    online_enabled = True,\n",
    "    statistics_config = {'histograms':True, 'correlations':True},\n",
    ")"
   ]
  },
  {
   "cell_type": "code",
   "execution_count": 29,
   "metadata": {
    "id": "iHIS_P_DAk-W"
   },
   "outputs": [],
   "source": [
    "# Reformatting columns\n",
    "df['at'] = pd.to_datetime(df['at'])  # Convert 'at' to datetime format\n",
    "df['augmented_comment'] = df['augmented_comment'].astype(str)  # Convert 'augmented_comment' to string\n",
    "df['sentiment'] = df['sentiment'].astype(str)  # Convert 'sentiment' to string\n",
    "df['content'] = df['content'].astype(str)  # Convert 'content' to string"
   ]
  },
  {
   "cell_type": "code",
   "execution_count": null,
   "metadata": {
    "colab": {
     "base_uri": "https://localhost:8080/"
    },
    "id": "kNjpXxX4YRqC",
    "outputId": "2603ab9c-9e5a-4e47-ac65-6dc2a1e6d60b"
   },
   "outputs": [],
   "source": [
    "import sys\n",
    "print(\"Python version:\", sys.version)"
   ]
  },
  {
   "cell_type": "code",
   "execution_count": null,
   "metadata": {
    "colab": {
     "base_uri": "https://localhost:8080/"
    },
    "id": "SBPm1Y2SAdeL",
    "outputId": "f23fb021-8dd5-4bed-95d5-3d5a1a9ec240"
   },
   "outputs": [
    {
     "name": "stderr",
     "output_type": "stream",
     "text": [
      "Uploading Dataframe: 100.00% |██████████| Rows 29994/29994 | Elapsed Time: 00:05 | Remaining Time: 00:00\n"
     ]
    },
    {
     "name": "stdout",
     "output_type": "stream",
     "text": [
      "Launching job: reviews_1_offline_fg_materialization\n",
      "Job started successfully, you can follow the progress at \n",
      "https://c.app.hopsworks.ai:443/p/1185941/jobs/named/reviews_1_offline_fg_materialization/executions\n"
     ]
    },
    {
     "data": {
      "text/plain": [
       "(Job('reviews_1_offline_fg_materialization', 'SPARK'), None)"
      ]
     },
     "execution_count": 14,
     "metadata": {},
     "output_type": "execute_result"
    }
   ],
   "source": [
    "reviews_fg.insert(df)"
   ]
  },
  {
   "cell_type": "code",
   "execution_count": null,
   "metadata": {
    "colab": {
     "base_uri": "https://localhost:8080/"
    },
    "id": "mlzAJfyOha6J",
    "outputId": "cda9af14-5abb-4cd5-9d06-ad50df610bc0"
   },
   "outputs": [
    {
     "name": "stdout",
     "output_type": "stream",
     "text": [
      "<class 'pandas.core.frame.DataFrame'>\n",
      "RangeIndex: 29994 entries, 0 to 29993\n",
      "Data columns (total 7 columns):\n",
      " #   Column             Non-Null Count  Dtype         \n",
      "---  ------             --------------  -----         \n",
      " 0   reviewId           29994 non-null  object        \n",
      " 1   content            29994 non-null  object        \n",
      " 2   score              29994 non-null  int64         \n",
      " 3   at                 29994 non-null  datetime64[ns]\n",
      " 4   thumbsUpCount      29994 non-null  int64         \n",
      " 5   augmented_comment  29994 non-null  object        \n",
      " 6   sentiment          29994 non-null  object        \n",
      "dtypes: datetime64[ns](1), int64(2), object(4)\n",
      "memory usage: 1.6+ MB\n",
      "None\n",
      "                               reviewId  \\\n",
      "0  b35813f3-bf30-43ae-8364-a66e8e6263fa   \n",
      "1  92b8d4da-0de0-457f-bd4a-886916b53ef5   \n",
      "2  fd78f35e-a309-4dd4-91cd-e878d3259291   \n",
      "3  d8d12d28-ef26-48f6-ae76-d4e3b906f88f   \n",
      "4  89679fff-c646-4c9b-b3e6-847a403bbcdb   \n",
      "\n",
      "                                             content  score  \\\n",
      "0                         Don't install west money..      1   \n",
      "1  it's alotta international people swiping right...      1   \n",
      "2                                 Artificial flowers      1   \n",
      "3                                              its 👌      5   \n",
      "4  al lot of scammers and prostitution inside the...      1   \n",
      "\n",
      "                   at  thumbsUpCount  \\\n",
      "0 2025-01-07 16:35:21              0   \n",
      "1 2025-01-07 16:20:24              0   \n",
      "2 2025-01-07 15:54:43              0   \n",
      "3 2025-01-07 15:51:00              0   \n",
      "4 2025-01-07 15:26:40              0   \n",
      "\n",
      "                                   augmented_comment sentiment  \n",
      "0  Don't install west money... Score given on a s...   neutral  \n",
      "1  it's alotta international people swiping right...  negative  \n",
      "2  Artificial flowers. Score given on a scale of ...  positive  \n",
      "3      its 👌. Score given on a scale of 1 to 5 is: 5  positive  \n",
      "4  al lot of scammers and prostitution inside the...  negative  \n"
     ]
    }
   ],
   "source": [
    "print(df.info())  # Check column names and data types\n",
    "print(df.head())  # Preview the first few rows\n"
   ]
  },
  {
   "cell_type": "code",
   "execution_count": null,
   "metadata": {
    "id": "Ysc0qXtPg_JV"
   },
   "outputs": [],
   "source": [
    "df.to_excel('reviews_labelled.xlsx', index=False, engine='openpyxl')"
   ]
  }
 ],
 "metadata": {
  "accelerator": "GPU",
  "colab": {
   "gpuType": "L4",
   "machine_shape": "hm",
   "provenance": []
  },
  "kernelspec": {
   "display_name": "Python 3 (ipykernel)",
   "language": "python",
   "name": "python3"
  },
  "language_info": {
   "codemirror_mode": {
    "name": "ipython",
    "version": 3
   },
   "file_extension": ".py",
   "mimetype": "text/x-python",
   "name": "python",
   "nbconvert_exporter": "python",
   "pygments_lexer": "ipython3",
   "version": "3.12.7"
  }
 },
 "nbformat": 4,
 "nbformat_minor": 4
}
